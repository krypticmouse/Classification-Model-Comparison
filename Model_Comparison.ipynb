{
  "nbformat": 4,
  "nbformat_minor": 0,
  "metadata": {
    "kernelspec": {
      "display_name": "Python 3",
      "language": "python",
      "name": "python3"
    },
    "language_info": {
      "codemirror_mode": {
        "name": "ipython",
        "version": 3
      },
      "file_extension": ".py",
      "mimetype": "text/x-python",
      "name": "python",
      "nbconvert_exporter": "python",
      "pygments_lexer": "ipython3",
      "version": "3.7.6"
    },
    "colab": {
      "name": "Model Comparison.ipynb",
      "provenance": []
    },
    "accelerator": "GPU"
  },
  "cells": [
    {
      "cell_type": "code",
      "metadata": {
        "id": "EbmvgLiVM0oK"
      },
      "source": [
        "import numpy as np\n",
        "import pandas as pd\n",
        "import matplotlib.pyplot as plt"
      ],
      "execution_count": 1,
      "outputs": []
    },
    {
      "cell_type": "markdown",
      "metadata": {
        "id": "b9uUIgj3M0oS"
      },
      "source": [
        "# Pytorch(Scratch):-"
      ]
    },
    {
      "cell_type": "code",
      "metadata": {
        "id": "_e6JFMV1M0oU"
      },
      "source": [
        "import torch \n",
        "from torchvision import datasets, transforms\n",
        "from torch.utils.data import DataLoader,sampler"
      ],
      "execution_count": 2,
      "outputs": []
    },
    {
      "cell_type": "code",
      "metadata": {
        "id": "AvE1RpOxM0oZ",
        "outputId": "39e483ca-2578-4189-b7dd-11d0c55276a2",
        "colab": {
          "base_uri": "https://localhost:8080/",
          "height": 35
        }
      },
      "source": [
        "device = torch.cuda.is_available()\n",
        "'GPU is available!!!' if device else 'GPU isn\\'t available'"
      ],
      "execution_count": 3,
      "outputs": [
        {
          "output_type": "execute_result",
          "data": {
            "application/vnd.google.colaboratory.intrinsic+json": {
              "type": "string"
            },
            "text/plain": [
              "'GPU is available!!!'"
            ]
          },
          "metadata": {
            "tags": []
          },
          "execution_count": 3
        }
      ]
    },
    {
      "cell_type": "code",
      "metadata": {
        "id": "DIx6Mq-hM0od",
        "outputId": "95b9c22b-aae7-48de-a358-061aeb902f25",
        "colab": {
          "base_uri": "https://localhost:8080/",
          "height": 51
        }
      },
      "source": [
        "transform = transforms.Compose([\n",
        "    transforms.ToTensor(),\n",
        "    transforms.Normalize((0.5,),(0.5,))\n",
        "])\n",
        "\n",
        "train = datasets.CIFAR10('data/CIFAR',train = True,transform=transform,download = True)\n",
        "test = datasets.CIFAR10('data/CIFAR',train = False,transform=transform,download = True)\n",
        "\n",
        "valid_size = 0.2\n",
        "num_train = len(train)\n",
        "idx = list(range(num_train))\n",
        "np.random.shuffle(idx)\n",
        "valid_idx = idx[:int(num_train*valid_size)]\n",
        "train_idx = idx[int(num_train*valid_size):]\n",
        "\n",
        "trainsampler = sampler.RandomSampler(train_idx)\n",
        "validsampler = sampler.RandomSampler(valid_idx)\n",
        "\n",
        "trainloader = DataLoader(train,sampler=trainsampler,batch_size=32)\n",
        "validloader = DataLoader(train,sampler=validsampler,batch_size=32)\n",
        "testloader = DataLoader(test,batch_size=32)"
      ],
      "execution_count": 17,
      "outputs": [
        {
          "output_type": "stream",
          "text": [
            "Files already downloaded and verified\n",
            "Files already downloaded and verified\n"
          ],
          "name": "stdout"
        }
      ]
    },
    {
      "cell_type": "code",
      "metadata": {
        "id": "KDNsA0SmM0oh"
      },
      "source": [
        "from torch import nn,optim\n",
        "import torch.nn.functional as F"
      ],
      "execution_count": 18,
      "outputs": []
    },
    {
      "cell_type": "code",
      "metadata": {
        "id": "zaajKNlKM0ok",
        "outputId": "e76ed9cf-720f-48be-b02e-549e3ef307d2",
        "colab": {
          "base_uri": "https://localhost:8080/",
          "height": 170
        }
      },
      "source": [
        "class Net(nn.Module):\n",
        "    def __init__(self):\n",
        "        super(Net, self).__init__()\n",
        "        # convolutional layer (sees 32x32x3 image tensor)\n",
        "        self.conv1 = nn.Conv2d(3, 16, 3, padding=1)\n",
        "        # convolutional layer (sees 16x16x16 tensor)\n",
        "        self.conv2 = nn.Conv2d(16, 32, 3, padding=1)\n",
        "        # convolutional layer (sees 8x8x32 tensor)\n",
        "        self.conv3 = nn.Conv2d(32, 64, 3, padding=1)\n",
        "        # max pooling layer\n",
        "        self.pool = nn.MaxPool2d(2, 2)\n",
        "        # linear layer (64 * 4 * 4 -> 500)\n",
        "        self.fc1 = nn.Linear(64 * 4 * 4, 500)\n",
        "        # linear layer (500 -> 10)\n",
        "        self.fc2 = nn.Linear(500, 10)\n",
        "        # dropout layer (p=0.25)\n",
        "        self.dropout = nn.Dropout(0.25)\n",
        "\n",
        "    def forward(self, x):\n",
        "        # add sequence of convolutional and max pooling layers\n",
        "        x = self.pool(F.relu(self.conv1(x)))\n",
        "        x = self.pool(F.relu(self.conv2(x)))\n",
        "        x = self.pool(F.relu(self.conv3(x)))\n",
        "        # flatten image input\n",
        "        x = x.view(-1, 64 * 4 * 4)\n",
        "        # add dropout layer\n",
        "        x = self.dropout(x)\n",
        "        # add 1st hidden layer, with relu activation function\n",
        "        x = F.relu(self.fc1(x))\n",
        "        # add dropout layer\n",
        "        x = self.dropout(x)\n",
        "        # add 2nd hidden layer, with relu activation function\n",
        "        x = self.fc2(x)\n",
        "        return x\n",
        "    \n",
        "model = Net()\n",
        "print(model)\n",
        "\n",
        "if device:\n",
        "    model.cuda()"
      ],
      "execution_count": 19,
      "outputs": [
        {
          "output_type": "stream",
          "text": [
            "Net(\n",
            "  (conv1): Conv2d(3, 16, kernel_size=(3, 3), stride=(1, 1), padding=(1, 1))\n",
            "  (conv2): Conv2d(16, 32, kernel_size=(3, 3), stride=(1, 1), padding=(1, 1))\n",
            "  (conv3): Conv2d(32, 64, kernel_size=(3, 3), stride=(1, 1), padding=(1, 1))\n",
            "  (pool): MaxPool2d(kernel_size=2, stride=2, padding=0, dilation=1, ceil_mode=False)\n",
            "  (fc1): Linear(in_features=1024, out_features=500, bias=True)\n",
            "  (fc2): Linear(in_features=500, out_features=10, bias=True)\n",
            "  (dropout): Dropout(p=0.25, inplace=False)\n",
            ")\n"
          ],
          "name": "stdout"
        }
      ]
    },
    {
      "cell_type": "code",
      "metadata": {
        "id": "CmWYiKDdM0oo"
      },
      "source": [
        "criterion = nn.CrossEntropyLoss()\n",
        "optimizer = optim.SGD(model.parameters(),lr=0.01)"
      ],
      "execution_count": 20,
      "outputs": []
    },
    {
      "cell_type": "code",
      "metadata": {
        "id": "ewePqntHM0or",
        "outputId": "a3d66382-473f-4348-d851-d0ce46cf7649",
        "colab": {
          "base_uri": "https://localhost:8080/",
          "height": 697
        }
      },
      "source": [
        "epochs = 20\n",
        "min_valid_loss = np.Inf\n",
        "\n",
        "for i in range(1,epochs+1):\n",
        "    train_loss = 0.0\n",
        "    valid_loss = 0.0\n",
        "    model.train()\n",
        "    for data,label in trainloader:\n",
        "        if device:\n",
        "            data,label = data.cuda(),label.cuda()\n",
        "        optimizer.zero_grad()\n",
        "        output = model(data)\n",
        "        loss = criterion(output,label)\n",
        "        loss.backward()\n",
        "        optimizer.step()\n",
        "        train_loss += loss.item()*data.size(0)\n",
        "    \n",
        "    model.eval()\n",
        "    for data,label in validloader:\n",
        "        if device:\n",
        "            data,label = data.cuda(),label.cuda()\n",
        "        output = model(data)\n",
        "        loss = criterion(output,label)\n",
        "        valid_loss += loss.item()*data.size(0)\n",
        "    \n",
        "    train_loss = train_loss/len(trainloader.sampler)\n",
        "    valid_loss = valid_loss/len(validloader.sampler)\n",
        "    print('Epoch {}/20 Training Loss is: {:.6f} Validation Loss is:{:.6f}'.format(\n",
        "        i,train_loss,valid_loss\n",
        "    ))\n",
        "    if min_valid_loss > valid_loss:\n",
        "        print('Validation loss decreased({:.6f}--->{:.6f}). Saving Model...'.format(min_valid_loss,valid_loss))\n",
        "        torch.save(model.state_dict(),'mnist.pt')\n",
        "        min_valid_loss = valid_loss"
      ],
      "execution_count": 24,
      "outputs": [
        {
          "output_type": "stream",
          "text": [
            "Epoch 1/20 Training Loss is: 1.871178 Validation Loss is:1.643556\n",
            "Validation loss decreased(inf--->1.643556). Saving Model...\n",
            "Epoch 2/20 Training Loss is: 1.624241 Validation Loss is:1.523650\n",
            "Validation loss decreased(1.643556--->1.523650). Saving Model...\n",
            "Epoch 3/20 Training Loss is: 1.507047 Validation Loss is:1.383758\n",
            "Validation loss decreased(1.523650--->1.383758). Saving Model...\n",
            "Epoch 4/20 Training Loss is: 1.412758 Validation Loss is:1.314863\n",
            "Validation loss decreased(1.383758--->1.314863). Saving Model...\n",
            "Epoch 5/20 Training Loss is: 1.341326 Validation Loss is:1.228914\n",
            "Validation loss decreased(1.314863--->1.228914). Saving Model...\n",
            "Epoch 6/20 Training Loss is: 1.273918 Validation Loss is:1.158536\n",
            "Validation loss decreased(1.228914--->1.158536). Saving Model...\n",
            "Epoch 7/20 Training Loss is: 1.213177 Validation Loss is:1.101805\n",
            "Validation loss decreased(1.158536--->1.101805). Saving Model...\n",
            "Epoch 8/20 Training Loss is: 1.157912 Validation Loss is:1.029083\n",
            "Validation loss decreased(1.101805--->1.029083). Saving Model...\n",
            "Epoch 9/20 Training Loss is: 1.106068 Validation Loss is:0.979910\n",
            "Validation loss decreased(1.029083--->0.979910). Saving Model...\n",
            "Epoch 10/20 Training Loss is: 1.060143 Validation Loss is:0.932184\n",
            "Validation loss decreased(0.979910--->0.932184). Saving Model...\n",
            "Epoch 11/20 Training Loss is: 1.018434 Validation Loss is:0.875687\n",
            "Validation loss decreased(0.932184--->0.875687). Saving Model...\n",
            "Epoch 12/20 Training Loss is: 0.983112 Validation Loss is:0.835076\n",
            "Validation loss decreased(0.875687--->0.835076). Saving Model...\n",
            "Epoch 13/20 Training Loss is: 0.948583 Validation Loss is:0.824147\n",
            "Validation loss decreased(0.835076--->0.824147). Saving Model...\n",
            "Epoch 14/20 Training Loss is: 0.917959 Validation Loss is:0.809500\n",
            "Validation loss decreased(0.824147--->0.809500). Saving Model...\n",
            "Epoch 15/20 Training Loss is: 0.887416 Validation Loss is:0.739236\n",
            "Validation loss decreased(0.809500--->0.739236). Saving Model...\n",
            "Epoch 16/20 Training Loss is: 0.859812 Validation Loss is:0.722990\n",
            "Validation loss decreased(0.739236--->0.722990). Saving Model...\n",
            "Epoch 17/20 Training Loss is: 0.828968 Validation Loss is:0.675726\n",
            "Validation loss decreased(0.722990--->0.675726). Saving Model...\n",
            "Epoch 18/20 Training Loss is: 0.808968 Validation Loss is:0.661587\n",
            "Validation loss decreased(0.675726--->0.661587). Saving Model...\n",
            "Epoch 19/20 Training Loss is: 0.781943 Validation Loss is:0.623645\n",
            "Validation loss decreased(0.661587--->0.623645). Saving Model...\n",
            "Epoch 20/20 Training Loss is: 0.759776 Validation Loss is:0.622820\n",
            "Validation loss decreased(0.623645--->0.622820). Saving Model...\n"
          ],
          "name": "stdout"
        }
      ]
    },
    {
      "cell_type": "code",
      "metadata": {
        "id": "tk73VExmM0ou",
        "outputId": "5819c992-5d96-4587-86e5-1a2983b7b1a7",
        "colab": {
          "base_uri": "https://localhost:8080/",
          "height": 34
        }
      },
      "source": [
        "model.load_state_dict(torch.load('mnist.pt'))"
      ],
      "execution_count": 25,
      "outputs": [
        {
          "output_type": "execute_result",
          "data": {
            "text/plain": [
              "<All keys matched successfully>"
            ]
          },
          "metadata": {
            "tags": []
          },
          "execution_count": 25
        }
      ]
    },
    {
      "cell_type": "code",
      "metadata": {
        "id": "gaDpPMLNM0ox",
        "outputId": "d2b8bcba-0450-441d-f650-026604710491",
        "colab": {
          "base_uri": "https://localhost:8080/",
          "height": 51
        }
      },
      "source": [
        "test_loss = 0.0\n",
        "correct = 0\n",
        "total = 0\n",
        "model.eval()\n",
        "for data,label in testloader:\n",
        "    if device:\n",
        "        data,label = data.cuda(),label.cuda()\n",
        "    output = model(data)\n",
        "    loss = criterion(output,label)\n",
        "    test_loss += loss.item()*data.size(0)\n",
        "    for o,l in zip(output,label):\n",
        "        if torch.argmax(o) == l:\n",
        "            correct += 1\n",
        "        total += 1\n",
        "print('Test Loss is: {}'.format(test_loss/len(test)))\n",
        "print('Accuracy: {}/{}'.format(correct,total))"
      ],
      "execution_count": 26,
      "outputs": [
        {
          "output_type": "stream",
          "text": [
            "Test Loss is: 0.8288020639419555\n",
            "Accuracy: 7080/10000\n"
          ],
          "name": "stdout"
        }
      ]
    },
    {
      "cell_type": "code",
      "metadata": {
        "id": "hmfopYGiM0oz"
      },
      "source": [
        ""
      ],
      "execution_count": 10,
      "outputs": []
    }
  ]
}